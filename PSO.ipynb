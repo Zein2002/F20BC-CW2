{
 "cells": [
  {
   "cell_type": "markdown",
   "metadata": {},
   "source": [
    "# Imports and Setup"
   ]
  },
  {
   "cell_type": "code",
   "execution_count": 422,
   "metadata": {},
   "outputs": [],
   "source": [
    "import sys\n",
    "assert sys.version_info >= (3, 5)\n",
    "\n",
    "import numpy as np\n",
    "import pandas as pd\n",
    "import statistics as stat\n",
    "import random\n",
    "import time\n",
    "\n",
    "import matplotlib as mpl\n",
    "import matplotlib.pyplot as plt\n",
    "from matplotlib.animation import FuncAnimation\n",
    "import optproblems.cec2005 as opt\n",
    "import optproblems.base as base"
   ]
  },
  {
   "cell_type": "markdown",
   "metadata": {},
   "source": [
    "# Hyperparameters:"
   ]
  },
  {
   "cell_type": "code",
   "execution_count": 423,
   "metadata": {},
   "outputs": [],
   "source": [
    "Number_of_Inputs = 2\n",
    "Func_Domain = [-100, 100]\n",
    "Stay_Within_Bounds = True\n",
    "Function = opt.F1(Number_of_Inputs)\n",
    "\n",
    "Swarm_Size = 100\n",
    "Number_of_Informants = 10\n",
    "Max_Number_of_Iterations = 100\n",
    "\n",
    "Inertia = 0.5\n",
    "Personal_Best = 0.5\n",
    "Informants_Best = 0.5\n",
    "Global_Best = 0.5\n",
    "Jump_Size = 0.5\n",
    "Weights = [Inertia, Personal_Best, Informants_Best, Global_Best, Jump_Size]"
   ]
  },
  {
   "cell_type": "markdown",
   "metadata": {},
   "source": [
    "# Helper Functions"
   ]
  },
  {
   "cell_type": "code",
   "execution_count": 424,
   "metadata": {},
   "outputs": [],
   "source": [
    "def eval(func, position):\n",
    "    pos = base.Individual(position)\n",
    "    func.evaluate(pos)\n",
    "    return pos.objective_values"
   ]
  },
  {
   "cell_type": "markdown",
   "metadata": {},
   "source": [
    "# Particle Swarm Optimisation Algorithm"
   ]
  },
  {
   "cell_type": "markdown",
   "metadata": {},
   "source": [
    "### Particle Class"
   ]
  },
  {
   "cell_type": "code",
   "execution_count": 425,
   "metadata": {},
   "outputs": [],
   "source": [
    "class Particle:\n",
    "    def __init__(self, numInputs, domain, func, weights, boundary):\n",
    "        self.position = []\n",
    "        self.velocity = []\n",
    "        self.bestPos = []\n",
    "        self.informants: list[Particle] = []\n",
    "        self.func = func\n",
    "        self.domain = domain\n",
    "        self.dimensions = numInputs\n",
    "        self.weights = weights\n",
    "        self.boundary = boundary\n",
    "\n",
    "        for i in range(numInputs):\n",
    "            self.position.append(random.uniform(domain[0], domain[1]))\n",
    "            self.velocity.append(random.uniform(-np.abs(domain[1] - domain[0])/10, np.abs(domain[1] - domain[0])/10))\n",
    " \n",
    "        self.result = eval(func, self.position)\n",
    "        self.bestResult = self.result\n",
    "        self.bestPos = self.position.copy()\n",
    "    \n",
    "    def evaluate(self):\n",
    "        self.result = eval(self.func, self.position)\n",
    "\n",
    "        if self.result < self.bestResult:\n",
    "            self.bestResult = self.result\n",
    "            self.bestPos = self.position.copy()\n",
    "\n",
    "    def update_velocity(self, globalBestPos):\n",
    "        bestInformant = self.informants[0]\n",
    "        for particle in self.informants:\n",
    "            if particle.bestResult < bestInformant.bestResult:\n",
    "                bestInformant = particle\n",
    "\n",
    "        for i in range(self.dimensions):\n",
    "            cognitive = random.uniform(0, self.weights[1])*(self.bestPos[i] - self.position[i])\n",
    "            social = random.uniform(0, self.weights[2])*(bestInformant.bestPos[i] - self.position[i])\n",
    "            globalv = random.uniform(0, self.weights[3])*(globalBestPos[i] - self.position[i])\n",
    "            self.velocity[i] = self.weights[0]*self.velocity[i] + cognitive + social + globalv\n",
    "    \n",
    "    def update_position(self):\n",
    "        for i in range(self.dimensions):\n",
    "            self.position[i] += self.weights[4] * self.velocity[i]\n",
    "            \n",
    "            if self.boundary:\n",
    "                if self.position[i] < self.domain[0]:\n",
    "                    self.position[i] = self.domain[0]\n",
    "                elif self.position[i] > self.domain[1]:\n",
    "                    self.position[i] = self.domain[1]"
   ]
  },
  {
   "cell_type": "markdown",
   "metadata": {},
   "source": [
    "### Particle Swarm Optimization Algorithm Class"
   ]
  },
  {
   "cell_type": "code",
   "execution_count": 426,
   "metadata": {},
   "outputs": [],
   "source": [
    "class PSO():\n",
    "    def __init__(self, numInputs, domain, func, weights, swarmSize, numInformants, maxIter, boundary = True, result = True):\n",
    "        self.swarm: list[Particle] = []\n",
    "        self.swarmSize = swarmSize\n",
    "        self.maxIter = maxIter\n",
    "        self.domain = domain\n",
    "        self.func = func\n",
    "        self.numInputs = numInputs\n",
    "        self.initSwarm = []\n",
    "\n",
    "        for i in range(swarmSize):\n",
    "            particle = Particle(numInputs, domain, func, weights, boundary)\n",
    "            self.swarm.append(particle)\n",
    "            self.initSwarm.append(particle.position.copy())\n",
    "        \n",
    "        for i in range(swarmSize):\n",
    "            while len(self.swarm[i].informants) < numInformants:\n",
    "                inform = random.choice(self.swarm)\n",
    "                if self.swarm[i].informants.__contains__(inform) or self.swarm[i] == inform:\n",
    "                    continue\n",
    "                else:\n",
    "                    self.swarm[i].informants.append(inform)\n",
    "\n",
    "        self.globalBest = self.swarm[0]\n",
    "        for j in range(self.swarmSize):\n",
    "                if self.swarm[j].bestResult < self.globalBest.bestResult:\n",
    "                    self.globalBest = self.swarm[j]\n",
    "\n",
    "    def optimize(self):\n",
    "        i = 0\n",
    "        while i < self.maxIter:\n",
    "            for j in range(self.swarmSize):\n",
    "                self.swarm[j].evaluate()\n",
    "            \n",
    "            for j in range(self.swarmSize):\n",
    "                if self.swarm[j].bestResult < self.globalBest.bestResult:\n",
    "                    self.globalBest = self.swarm[j]\n",
    "\n",
    "            for j in range(self.swarmSize):\n",
    "                self.swarm[j].update_velocity(self.globalBest.bestPos)\n",
    "                self.swarm[j].update_position()\n",
    "\n",
    "            i+=1\n",
    "\n",
    "    def print_result(self):\n",
    "        print(\"Solution:\")\n",
    "        print(self.globalBest.bestPos)\n",
    "        print(\"Result:\")\n",
    "        print(eval(self.func, self.globalBest.bestPos), self.globalBest.bestResult)\n",
    "\n",
    "    def display_graph(self):\n",
    "        if self.numInputs != 2:\n",
    "            print(\"Display is only possible with 2 dimensions/number of inputs!\")\n",
    "            return\n",
    "        elif type(self.domain[0]) != int or type(self.domain[1]) != int:\n",
    "            print(\"Can't display non integer bounds!\")\n",
    "            return\n",
    "\n",
    "        boundT = 2*self.domain[1] \n",
    "        x, y = np.array(np.meshgrid(np.linspace(-self.domain[1],self.domain[1],boundT), np.linspace(-self.domain[1],self.domain[1],boundT)))\n",
    "        z = np.zeros([boundT, boundT])\n",
    "\n",
    "        for i in range(boundT):\n",
    "            for j in range(boundT):\n",
    "                plotSoln = base.Individual(np.array([x[i][j], y[i][j]]))\n",
    "                self.func.evaluate(plotSoln)\n",
    "                z[i][j] = plotSoln.objective_values\n",
    "\n",
    "        xFirst = np.zeros(self.swarmSize)                                          \n",
    "        yFirst = np.zeros(self.swarmSize)\n",
    "        xFinal = np.zeros(self.swarmSize) \n",
    "        yFinal = np.zeros(self.swarmSize)\n",
    "\n",
    "        for i in range(self.swarmSize):\n",
    "            xFirst[i] = self.initSwarm[i][0]\n",
    "            yFirst[i] = self.initSwarm[i][1]\n",
    "\n",
    "        for i in range(self.swarmSize):\n",
    "            xFinal[i] = self.swarm[i].position[0]\n",
    "            yFinal[i] = self.swarm[i].position[1]\n",
    "\n",
    "        x_min = x.reshape(-1)[z.argmin()]\n",
    "        y_min = y.reshape(-1)[z.argmin()]\n",
    " \n",
    "        plt.figure(figsize=(6,4))\n",
    "        plt.imshow(z, extent=[-self.domain[1], self.domain[1], -self.domain[1], self.domain[1]], origin='lower', cmap='PuBuGn', alpha=1)\n",
    "        plt.colorbar()\n",
    "        plt.plot([x_min], [y_min], marker='x', markersize=10, color=\"black\", label=\"Optimal\")\n",
    "        plt.plot(self.globalBest.bestPos[0], self.globalBest.bestPos[1], marker='^', markersize=5, color=\"black\", label=\"Best\")\n",
    "        contours = plt.contour(x, y, z, colors='black', alpha=0.4)\n",
    "        plt.clabel(contours, inline=True, fontsize=8, fmt=\"%.0f\")\n",
    "        plt.scatter(xFirst, yFirst, 5, c=\"orange\", label=\"first generation\") \n",
    "        plt.scatter(xFinal, yFinal, 5, c=\"red\", label=\"last generation\")\n",
    "        plt.legend()\n",
    "        plt.show()\n"
   ]
  },
  {
   "cell_type": "markdown",
   "metadata": {},
   "source": [
    "# Runnning and Testing"
   ]
  },
  {
   "cell_type": "code",
   "execution_count": 431,
   "metadata": {},
   "outputs": [
    {
     "name": "stdout",
     "output_type": "stream",
     "text": [
      "Solution:\n",
      "[-0.1367000000000009, 0.1186000000000006]\n",
      "Result:\n",
      "90.0 90.0\n",
      "[-0.1367, 0.1186]\n",
      "Can't display non integer bounds!\n"
     ]
    }
   ],
   "source": [
    "pso = PSO(Number_of_Inputs, Func_Domain, Function, Weights, Swarm_Size, Number_of_Informants, Max_Number_of_Iterations)\n",
    "pso.optimize()\n",
    "pso.print_result()\n",
    "optSol = Function.get_optimal_solutions()[0]\n",
    "Function.evaluate(optSol)\n",
    "print(optSol.phenome)\n",
    "pso.display_graph()"
   ]
  },
  {
   "cell_type": "markdown",
   "metadata": {},
   "source": [
    "# Testing with Performance Metrics"
   ]
  },
  {
   "cell_type": "code",
   "execution_count": 428,
   "metadata": {},
   "outputs": [],
   "source": [
    "def run(runs): \n",
    "    optSol = Function.get_optimal_solutions()[0]\n",
    "    Function.evaluate(optSol)\n",
    "\n",
    "    bestParticleList : list[Particle] = []\n",
    "    for i in range(runs):\n",
    "      pso = PSO(Number_of_Inputs, Func_Domain, Function, Weights, Swarm_Size, Number_of_Informants, Max_Number_of_Iterations)\n",
    "      pso.optimize()\n",
    "      bestParticleList.append(pso.globalBest)\n",
    "\n",
    "    avgSum = 0\n",
    "    blob = []\n",
    "    for i in range(runs):\n",
    "      blob.append(bestParticleList[i].bestResult)\n",
    "      avgSum += bestParticleList[i].bestResult\n",
    "    averageObjVal = sum(blob)/len(blob)\n",
    "    print(\"Actual =\", optSol.objective_values)\n",
    "    print(\"Average =\", averageObjVal)\n",
    "    accuracy = abs((optSol.objective_values - averageObjVal)/optSol.objective_values) * 100\n",
    "    print(\"percenatge error of value = \", accuracy)\n",
    "    \n",
    "    stdDevObjVal = stat.pstdev(blob)\n",
    "    print(\"The Standard Deviation of best value of the past 10 runs is \", stdDevObjVal)\n",
    "\n",
    "    stdSum = []\n",
    "    stdAvg = np.zeros(Number_of_Inputs)\n",
    "    stdAcc = []\n",
    "    resStdDev = []\n",
    "    for i in range(Number_of_Inputs):\n",
    "      stdSum = []\n",
    "      for j in range(runs):\n",
    "        stdSum.append(bestParticleList[j].bestPos[i])\n",
    "      stdAvg[i] = sum(stdSum)/len(stdSum)\n",
    "      stdAcc.append(abs((optSol.phenome[i] - stdAvg[i])/optSol.phenome[i]) * 100)\n",
    "      resStdDev.append(stat.pstdev(stdSum))\n",
    "    \n",
    "    perErr = sum(stdAcc)/len(stdAcc)             \n",
    "    print(\"Avg percentage error for elements of solution is \", perErr)\n",
    "    \n",
    "    avgStdDev = sum(resStdDev)/len(resStdDev)\n",
    "    print(\"Avg standard deviation for elements of solution is \", avgStdDev)"
   ]
  },
  {
   "cell_type": "code",
   "execution_count": 429,
   "metadata": {},
   "outputs": [],
   "source": [
    "Number_of_Inputs = 2\n",
    "Func_Domain = [-0.5, 0.5]\n",
    "Stay_Within_Bounds = True\n",
    "Function = opt.F11(Number_of_Inputs)\n",
    "\n",
    "Swarm_Size = 100\n",
    "Number_of_Informants = 10\n",
    "Max_Number_of_Iterations = 100\n",
    "\n",
    "Inertia = 0.5\n",
    "Personal_Best = 0.5\n",
    "Informants_Best = 0.5\n",
    "Global_Best = 0.5\n",
    "Jump_Size = 1\n",
    "Weights = [Inertia, Personal_Best, Informants_Best, Global_Best, Jump_Size]"
   ]
  },
  {
   "cell_type": "code",
   "execution_count": 430,
   "metadata": {},
   "outputs": [
    {
     "name": "stdout",
     "output_type": "stream",
     "text": [
      "Actual = 90.0\n",
      "Average = 90.0\n",
      "percenatge error of value =  0.0\n",
      "The Standard Deviation of best value of the past 10 runs is  1.7053025658242404e-14\n",
      "Avg percentage error for elements of solution is  147.31775608535395\n",
      "Avg standard deviation for elements of solution is  0.18847463522718966\n"
     ]
    }
   ],
   "source": [
    "run(10)"
   ]
  }
 ],
 "metadata": {
  "kernelspec": {
   "display_name": "Python 3.9.13 ('F21BC')",
   "language": "python",
   "name": "python3"
  },
  "language_info": {
   "codemirror_mode": {
    "name": "ipython",
    "version": 3
   },
   "file_extension": ".py",
   "mimetype": "text/x-python",
   "name": "python",
   "nbconvert_exporter": "python",
   "pygments_lexer": "ipython3",
   "version": "3.9.13"
  },
  "orig_nbformat": 4,
  "vscode": {
   "interpreter": {
    "hash": "e301f179994a6cc4696bb1a697aabf365a0e561b8ee640f0fafd7f18f35040ab"
   }
  }
 },
 "nbformat": 4,
 "nbformat_minor": 2
}
